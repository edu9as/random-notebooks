{
 "cells": [
  {
   "cell_type": "markdown",
   "source": [
    "# Olympics Basketball - Data Wrangling\n",
    "\n",
    "In **WSOlympicsBasketball.ipynb** we generated a dataset with some stats about players performance and stored it in a CSV file. Some of these columns were not conveniently stored, as we will see now, so in this notebook we are cleaning this dataset to make easier its future use."
   ],
   "metadata": {}
  },
  {
   "cell_type": "markdown",
   "source": [
    "## 1. Load dataset"
   ],
   "metadata": {}
  },
  {
   "cell_type": "code",
   "execution_count": 1,
   "source": [
    "import pandas as pd\n",
    "\n",
    "df = pd.read_csv(\"basketball_olympic_players_game_stats.csv\")\n",
    "df.head()"
   ],
   "outputs": [
    {
     "output_type": "execute_result",
     "data": {
      "text/plain": [
       "  country              vs  team_score  vs_score  date   #  \\\n",
       "0    Iran  Czech Republic          78        84  2507   3   \n",
       "1    Iran  Czech Republic          78        84  2507   5   \n",
       "2    Iran  Czech Republic          78        84  2507   7   \n",
       "3    Iran  Czech Republic          78        84  2507   8   \n",
       "4    Iran  Czech Republic          78        84  2507  13   \n",
       "\n",
       "                       Players    Min  Pts    FG  ... OREB DREB REB  AST  PF  \\\n",
       "0          Mohammadsina Vahedi  02:33    0   0/2  ...    0    0   0    0   0   \n",
       "1              Pujan Jalalpoor  09:04    3   1/3  ...    0    0   0    0   0   \n",
       "2         Mohammad Hassanzadeh    0:0    0   0/0  ...    0    0   0    0   0   \n",
       "3             Saeid Davarpanah    0:0    0   0/0  ...    0    0   0    0   0   \n",
       "4  Mohammad Jamshidijafarabadi  28:36   16  7/11  ...    0    1   1    7   1   \n",
       "\n",
       "   TO  STL  BLK  +/-  EFF  \n",
       "0   1    0    0   -3   -3  \n",
       "1   1    0    0   -6    0  \n",
       "2   0    0    0    0    0  \n",
       "3   0    0    0    0    0  \n",
       "4   7    1    0   -5   13  \n",
       "\n",
       "[5 rows x 23 columns]"
      ],
      "text/html": [
       "<div>\n",
       "<style scoped>\n",
       "    .dataframe tbody tr th:only-of-type {\n",
       "        vertical-align: middle;\n",
       "    }\n",
       "\n",
       "    .dataframe tbody tr th {\n",
       "        vertical-align: top;\n",
       "    }\n",
       "\n",
       "    .dataframe thead th {\n",
       "        text-align: right;\n",
       "    }\n",
       "</style>\n",
       "<table border=\"1\" class=\"dataframe\">\n",
       "  <thead>\n",
       "    <tr style=\"text-align: right;\">\n",
       "      <th></th>\n",
       "      <th>country</th>\n",
       "      <th>vs</th>\n",
       "      <th>team_score</th>\n",
       "      <th>vs_score</th>\n",
       "      <th>date</th>\n",
       "      <th>#</th>\n",
       "      <th>Players</th>\n",
       "      <th>Min</th>\n",
       "      <th>Pts</th>\n",
       "      <th>FG</th>\n",
       "      <th>...</th>\n",
       "      <th>OREB</th>\n",
       "      <th>DREB</th>\n",
       "      <th>REB</th>\n",
       "      <th>AST</th>\n",
       "      <th>PF</th>\n",
       "      <th>TO</th>\n",
       "      <th>STL</th>\n",
       "      <th>BLK</th>\n",
       "      <th>+/-</th>\n",
       "      <th>EFF</th>\n",
       "    </tr>\n",
       "  </thead>\n",
       "  <tbody>\n",
       "    <tr>\n",
       "      <th>0</th>\n",
       "      <td>Iran</td>\n",
       "      <td>Czech Republic</td>\n",
       "      <td>78</td>\n",
       "      <td>84</td>\n",
       "      <td>2507</td>\n",
       "      <td>3</td>\n",
       "      <td>Mohammadsina Vahedi</td>\n",
       "      <td>02:33</td>\n",
       "      <td>0</td>\n",
       "      <td>0/2</td>\n",
       "      <td>...</td>\n",
       "      <td>0</td>\n",
       "      <td>0</td>\n",
       "      <td>0</td>\n",
       "      <td>0</td>\n",
       "      <td>0</td>\n",
       "      <td>1</td>\n",
       "      <td>0</td>\n",
       "      <td>0</td>\n",
       "      <td>-3</td>\n",
       "      <td>-3</td>\n",
       "    </tr>\n",
       "    <tr>\n",
       "      <th>1</th>\n",
       "      <td>Iran</td>\n",
       "      <td>Czech Republic</td>\n",
       "      <td>78</td>\n",
       "      <td>84</td>\n",
       "      <td>2507</td>\n",
       "      <td>5</td>\n",
       "      <td>Pujan Jalalpoor</td>\n",
       "      <td>09:04</td>\n",
       "      <td>3</td>\n",
       "      <td>1/3</td>\n",
       "      <td>...</td>\n",
       "      <td>0</td>\n",
       "      <td>0</td>\n",
       "      <td>0</td>\n",
       "      <td>0</td>\n",
       "      <td>0</td>\n",
       "      <td>1</td>\n",
       "      <td>0</td>\n",
       "      <td>0</td>\n",
       "      <td>-6</td>\n",
       "      <td>0</td>\n",
       "    </tr>\n",
       "    <tr>\n",
       "      <th>2</th>\n",
       "      <td>Iran</td>\n",
       "      <td>Czech Republic</td>\n",
       "      <td>78</td>\n",
       "      <td>84</td>\n",
       "      <td>2507</td>\n",
       "      <td>7</td>\n",
       "      <td>Mohammad Hassanzadeh</td>\n",
       "      <td>0:0</td>\n",
       "      <td>0</td>\n",
       "      <td>0/0</td>\n",
       "      <td>...</td>\n",
       "      <td>0</td>\n",
       "      <td>0</td>\n",
       "      <td>0</td>\n",
       "      <td>0</td>\n",
       "      <td>0</td>\n",
       "      <td>0</td>\n",
       "      <td>0</td>\n",
       "      <td>0</td>\n",
       "      <td>0</td>\n",
       "      <td>0</td>\n",
       "    </tr>\n",
       "    <tr>\n",
       "      <th>3</th>\n",
       "      <td>Iran</td>\n",
       "      <td>Czech Republic</td>\n",
       "      <td>78</td>\n",
       "      <td>84</td>\n",
       "      <td>2507</td>\n",
       "      <td>8</td>\n",
       "      <td>Saeid Davarpanah</td>\n",
       "      <td>0:0</td>\n",
       "      <td>0</td>\n",
       "      <td>0/0</td>\n",
       "      <td>...</td>\n",
       "      <td>0</td>\n",
       "      <td>0</td>\n",
       "      <td>0</td>\n",
       "      <td>0</td>\n",
       "      <td>0</td>\n",
       "      <td>0</td>\n",
       "      <td>0</td>\n",
       "      <td>0</td>\n",
       "      <td>0</td>\n",
       "      <td>0</td>\n",
       "    </tr>\n",
       "    <tr>\n",
       "      <th>4</th>\n",
       "      <td>Iran</td>\n",
       "      <td>Czech Republic</td>\n",
       "      <td>78</td>\n",
       "      <td>84</td>\n",
       "      <td>2507</td>\n",
       "      <td>13</td>\n",
       "      <td>Mohammad Jamshidijafarabadi</td>\n",
       "      <td>28:36</td>\n",
       "      <td>16</td>\n",
       "      <td>7/11</td>\n",
       "      <td>...</td>\n",
       "      <td>0</td>\n",
       "      <td>1</td>\n",
       "      <td>1</td>\n",
       "      <td>7</td>\n",
       "      <td>1</td>\n",
       "      <td>7</td>\n",
       "      <td>1</td>\n",
       "      <td>0</td>\n",
       "      <td>-5</td>\n",
       "      <td>13</td>\n",
       "    </tr>\n",
       "  </tbody>\n",
       "</table>\n",
       "<p>5 rows × 23 columns</p>\n",
       "</div>"
      ]
     },
     "metadata": {},
     "execution_count": 1
    }
   ],
   "metadata": {}
  },
  {
   "cell_type": "markdown",
   "source": [
    "## 2. Explore datatypes\n",
    "\n",
    "Let's see the datatype of each of the columns in this dataset:"
   ],
   "metadata": {}
  },
  {
   "cell_type": "code",
   "execution_count": 2,
   "source": [
    "df.dtypes"
   ],
   "outputs": [
    {
     "output_type": "execute_result",
     "data": {
      "text/plain": [
       "country       object\n",
       "vs            object\n",
       "team_score     int64\n",
       "vs_score       int64\n",
       "date           int64\n",
       "#              int64\n",
       "Players       object\n",
       "Min           object\n",
       "Pts            int64\n",
       "FG            object\n",
       "2Pts          object\n",
       "3Pts          object\n",
       "FT            object\n",
       "OREB           int64\n",
       "DREB           int64\n",
       "REB            int64\n",
       "AST            int64\n",
       "PF             int64\n",
       "TO             int64\n",
       "STL            int64\n",
       "BLK            int64\n",
       "+/-            int64\n",
       "EFF            int64\n",
       "dtype: object"
      ]
     },
     "metadata": {},
     "execution_count": 2
    }
   ],
   "metadata": {}
  },
  {
   "cell_type": "markdown",
   "source": [
    "All of them are either strings ('object') or integers ('int64'). This is OK for the majority of the cases, but there are some exceptions:\n",
    "\n",
    "- **date** is a column of integers with the format (d)dmm. It would be better to:\n",
    "    - Convert it to a date datatype.\n",
    "    - Separate it into a **day** column and a **month** column. I am taking this approach.\n",
    "\n",
    "- **Min** is a column of strings (format MM:SS). I am transforming this column into seconds (**Sec**).\n",
    "\n",
    "- **FG**, **2Pts**, **3Pts** and **FT** are strings (format integer/integer). I am splitting each of them into a column S (scored shots) and A (attempted shots), which are integers."
   ],
   "metadata": {}
  },
  {
   "cell_type": "markdown",
   "source": [
    "## 3. Transform ugly columns\n",
    "\n",
    "### 3.1. FG, 2Pts, 3Pts and FT\n",
    "\n",
    "The transformation in these 4 columns is the same: split their values by **/** into two columns."
   ],
   "metadata": {}
  },
  {
   "cell_type": "code",
   "execution_count": 3,
   "source": [
    "for col in (\"FG\", \"2Pts\", \"3Pts\", \"FT\"):\n",
    "    df[[col+\"S\", col+\"A\"]] = df[col].str.split(\"/\", expand= True)"
   ],
   "outputs": [],
   "metadata": {}
  },
  {
   "cell_type": "markdown",
   "source": [
    "### 3.2. date\n",
    "\n",
    "For **date**, we are creating a column with its last two integers (**month**) and the rest of integers will form **day** column:"
   ],
   "metadata": {}
  },
  {
   "cell_type": "code",
   "execution_count": 4,
   "source": [
    "df[\"day\"] = [str(d)[:-2] for d in df.date.values]\n",
    "df[\"month\"] = [str(d)[-2:] for d in df.date.values]"
   ],
   "outputs": [],
   "metadata": {}
  },
  {
   "cell_type": "markdown",
   "source": [
    "### 3.3. Min\n",
    "\n",
    "**Min** column is being converted to seconds (**Sec**)."
   ],
   "metadata": {}
  },
  {
   "cell_type": "code",
   "execution_count": 5,
   "source": [
    "df[\"Sec\"] = [60*int(d.split(\":\")[0]) + int(d.split(\":\")[1]) for d in df.Min.values]"
   ],
   "outputs": [],
   "metadata": {}
  },
  {
   "cell_type": "markdown",
   "source": [
    "## 4. Remove ugly columns"
   ],
   "metadata": {}
  },
  {
   "cell_type": "code",
   "execution_count": 6,
   "source": [
    "for col in (\"FG\", \"2Pts\", \"3Pts\", \"FT\", \"date\", \"Min\"):\n",
    "    del df[col]"
   ],
   "outputs": [],
   "metadata": {}
  },
  {
   "cell_type": "markdown",
   "source": [
    "## 5. Store and annotate dataset\n",
    "\n",
    "The dataset is stored in **curated_basketball_olympic_players_game_stats.csv**, and the description and datatype of its columns can be found within **curated_basketball_olympic_players_game_stats.json**."
   ],
   "metadata": {}
  },
  {
   "cell_type": "code",
   "execution_count": 7,
   "source": [
    "df.to_csv(\"curated_basketball_olympic_players_game_stats.csv\", index = None)"
   ],
   "outputs": [],
   "metadata": {}
  }
 ],
 "metadata": {
  "orig_nbformat": 4,
  "language_info": {
   "name": "python",
   "version": "3.8.8",
   "mimetype": "text/x-python",
   "codemirror_mode": {
    "name": "ipython",
    "version": 3
   },
   "pygments_lexer": "ipython3",
   "nbconvert_exporter": "python",
   "file_extension": ".py"
  },
  "kernelspec": {
   "name": "python3",
   "display_name": "Python 3.8.8 64-bit ('base': conda)"
  },
  "interpreter": {
   "hash": "03030bd9ec34cbbf89af67f3831b1bdca51600da867b5ad50a6d7b4cccc59960"
  }
 },
 "nbformat": 4,
 "nbformat_minor": 2
}