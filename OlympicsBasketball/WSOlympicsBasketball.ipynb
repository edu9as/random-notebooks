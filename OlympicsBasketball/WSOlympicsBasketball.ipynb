{
    "cells": [
        {
            "cell_type": "markdown",
            "source": [
                "# Olympics Basketball - Web Scraping\n",
                "\n",
                "In this notebook I am retrieving some data about Men's Basketball at the 2020 Summer Olympics tournament from FIBA website. I am generating a dataset with multiple columns related with the performance of all players in each game of this tournament and storing it in a CSV file."
            ],
            "metadata": {}
        },
        {
            "cell_type": "markdown",
            "source": [
                "## 1. Load libraries\n",
                "\n",
                "The only libraries required for executing this notebook are:\n",
                "\n",
                "- **time**: for delaying the HTTP requests (it is important to be respectful when doing web scraping or else you might harm the server that is providing you the data).\n",
                "- **requests**: to send HTTP requests to FIBA webpage.\n",
                "- **bs4 (BeautifulSoup)**: for parsing of HTML.\n",
                "- **pandas**: makes easier dealing with data.\n"
            ],
            "metadata": {}
        },
        {
            "cell_type": "code",
            "execution_count": 1,
            "source": [
                "import time\n",
                "\n",
                "import requests\n",
                "from bs4 import BeautifulSoup as bs\n",
                "import pandas as pd"
            ],
            "outputs": [],
            "metadata": {}
        },
        {
            "cell_type": "markdown",
            "source": [
                "## 2. Prepare for web scraping\n",
                "\n",
                "As the website providing us the data is **https://www.fiba.basketball**, we store this address in **BASE_DATA**:"
            ],
            "metadata": {}
        },
        {
            "cell_type": "code",
            "execution_count": 2,
            "source": [
                "BASE_DATA = \"https://www.fiba.basketball\""
            ],
            "outputs": [],
            "metadata": {}
        },
        {
            "cell_type": "markdown",
            "source": [
                "The following function will ease our web scraping task. Given a URL corresponding to a game of the Men's Basketball at the 2020 Summer Olympics tournament, returns a Pandas dataframe with the information of all the players that participated in that game:"
            ],
            "metadata": {}
        },
        {
            "cell_type": "code",
            "execution_count": 3,
            "source": [
                "def get_boxscore(game_url):\n",
                "    box_sc_p = requests.get(game_url).text\n",
                "    box_sc = bs(box_sc_p, \"html.parser\")\n",
                "\n",
                "    scores = [s for s in box_sc.find(\"div\", class_= \"final-score\").text.split(\"\\n\") if s]\n",
                "    date = game_url.split(\"/\")[-2]\n",
                "\n",
                "    BASE_DATA = \"https://www.fiba.basketball\"\n",
                "    data_dir = box_sc.find(\"li\", {\"data-tab-content\": \"boxscore\"}).get(\"data-ajax-url\")\n",
                "    boxsc_p = requests.get(BASE_DATA + data_dir).text\n",
                "    boxsc = bs(boxsc_p, \"html.parser\")\n",
                "\n",
                "    loc_box, aw_box = boxsc.find_all(\"tbody\")\n",
                "    colnames = [d.text for d in boxsc.find(\"thead\").find_all(\"th\")]\n",
                "    names = game_url.split(\"/\")[-1].split(\"-\")\n",
                "    \n",
                "    all_players = []\n",
                "\n",
                "    for i in range(len(names)):\n",
                "        if \"Republic\" in game_url:\n",
                "            if names[i].startswith(\"Republic\"):\n",
                "                names[i] = \"Czech Republic\"\n",
                "            elif names[i].startswith(\"Czech\"):\n",
                "                names[i] = \"Czech Republic\"\n",
                "\n",
                "    for i, team in enumerate([loc_box, aw_box]):\n",
                "        for player in team.find_all(\"tr\"):\n",
                "            example = [d.text.strip().split(\"\\n\")[0] for d in player.find_all(\"td\") if d != \"\\n\"]\n",
                "            if len(example) < len(colnames):\n",
                "                example = example[:-1]\n",
                "                example = example + [\"0:0\", \"0\"] + [\"0/0\"] * 4 + [\"0\"] * 10\n",
                "            player_data = {\"country\": names[i], \"vs\": names[i-1],\n",
                "                           \"team_score\": scores[i], \"vs_score\": scores[i-1],\n",
                "                           \"date\": date}\n",
                "            for a,b in zip(colnames, example):\n",
                "                player_data[a] = b\n",
                "            \n",
                "            all_players.append(player_data)\n",
                "    \n",
                "    return pd.DataFrame(all_players)"
            ],
            "outputs": [],
            "metadata": {}
        },
        {
            "cell_type": "markdown",
            "source": [
                "## 3. Web scraping\n",
                "\n",
                "First, we extract all the URL's of <a href=\"https://www.fiba.basketball/olympics/men/2020/games\">this tournament's games</a>:"
            ],
            "metadata": {}
        },
        {
            "cell_type": "code",
            "execution_count": 4,
            "source": [
                "page = requests.get(BASE_DATA + \"/olympics/men/2020/games\").text\n",
                "soup = bs(page, \"html.parser\")\n",
                "link_ls = [a.get(\"href\") \n",
                "           for a in soup.find_all(\"a\") \n",
                "           if a.get(\"href\") and a.get(\"href\").startswith(\"/olympics/men/2020/game/\")]"
            ],
            "outputs": [],
            "metadata": {}
        },
        {
            "cell_type": "markdown",
            "source": [
                "For each link, we make a request to FIBA website to parse the information corresponding to each game, and we store the returned ```pandas.DataFrame``` objects in **all_tables** list:"
            ],
            "metadata": {}
        },
        {
            "cell_type": "code",
            "execution_count": 5,
            "source": [
                "all_tables = []\n",
                "\n",
                "for a in link_ls:\n",
                "    try:\n",
                "        all_tables.append(get_boxscore(BASE_DATA + a))\n",
                "    except (ValueError, TypeError, AttributeError):\n",
                "        print(\"Problem with\", BASE_DATA + a)\n",
                "        continue\n",
                "    time.sleep(3)\n",
                "    print(a)"
            ],
            "outputs": [
                {
                    "output_type": "stream",
                    "name": "stdout",
                    "text": [
                        "/olympics/men/2020/game/2507/Iran-Czech-Republic\n",
                        "/olympics/men/2020/game/2507/Germany-Italy\n",
                        "/olympics/men/2020/game/2507/Australia-Nigeria\n",
                        "/olympics/men/2020/game/2507/France-USA\n",
                        "/olympics/men/2020/game/2607/Argentina-Slovenia\n",
                        "Problem with https://www.fiba.basketball/olympics/men/2020/game/2607/Japan-Spain\n",
                        "/olympics/men/2020/game/2807/Nigeria-Germany\n",
                        "/olympics/men/2020/game/2807/USA-Iran\n",
                        "/olympics/men/2020/game/2807/Italy-Australia\n",
                        "/olympics/men/2020/game/2807/Czech-Republic-France\n",
                        "Problem with https://www.fiba.basketball/olympics/men/2020/game/2907/Slovenia-Japan\n",
                        "Problem with https://www.fiba.basketball/olympics/men/2020/game/2907/Spain-Argentina\n",
                        "/olympics/men/2020/game/3107/Iran-France\n",
                        "/olympics/men/2020/game/3107/Italy-Nigeria\n",
                        "/olympics/men/2020/game/3107/Australia-Germany\n",
                        "/olympics/men/2020/game/3107/USA-Czech-Republic\n",
                        "/olympics/men/2020/game/0108/Argentina-Japan\n",
                        "/olympics/men/2020/game/0108/Spain-Slovenia\n",
                        "Problem with https://www.fiba.basketball/olympics/men/2020/game/0308/Slovenia-Germany\n",
                        "Problem with https://www.fiba.basketball/olympics/men/2020/game/0308/Spain-USA\n",
                        "Problem with https://www.fiba.basketball/olympics/men/2020/game/0308/Italy-France\n",
                        "Problem with https://www.fiba.basketball/olympics/men/2020/game/0308/Australia-Argentina\n"
                    ]
                }
            ],
            "metadata": {}
        },
        {
            "cell_type": "markdown",
            "source": [
                "## 4. Storing the data\n",
                "\n",
                "To allow its future use, data must be stored in a file. First, all tables are merged in a single ```pandas.DataFrame```:"
            ],
            "metadata": {}
        },
        {
            "cell_type": "code",
            "execution_count": 6,
            "source": [
                "#df = pd.concat(all_tables)\n",
                "import pandas as pd\n",
                "\n",
                "df = pd.read_csv(\"basketball_olympic_players_game_stats.csv\")\n",
                "df.head()"
            ],
            "outputs": [
                {
                    "output_type": "execute_result",
                    "data": {
                        "text/plain": [
                            "  country              vs  team_score  vs_score  date   #  \\\n",
                            "0    Iran  Czech Republic          78        84  2507   3   \n",
                            "1    Iran  Czech Republic          78        84  2507   5   \n",
                            "2    Iran  Czech Republic          78        84  2507   7   \n",
                            "3    Iran  Czech Republic          78        84  2507   8   \n",
                            "4    Iran  Czech Republic          78        84  2507  13   \n",
                            "\n",
                            "                       Players    Min  Pts    FG  ... OREB DREB REB  AST  PF  \\\n",
                            "0          Mohammadsina Vahedi  02:33    0   0/2  ...    0    0   0    0   0   \n",
                            "1              Pujan Jalalpoor  09:04    3   1/3  ...    0    0   0    0   0   \n",
                            "2         Mohammad Hassanzadeh    0:0    0   0/0  ...    0    0   0    0   0   \n",
                            "3             Saeid Davarpanah    0:0    0   0/0  ...    0    0   0    0   0   \n",
                            "4  Mohammad Jamshidijafarabadi  28:36   16  7/11  ...    0    1   1    7   1   \n",
                            "\n",
                            "   TO  STL  BLK  +/-  EFF  \n",
                            "0   1    0    0   -3   -3  \n",
                            "1   1    0    0   -6    0  \n",
                            "2   0    0    0    0    0  \n",
                            "3   0    0    0    0    0  \n",
                            "4   7    1    0   -5   13  \n",
                            "\n",
                            "[5 rows x 23 columns]"
                        ],
                        "text/html": [
                            "<div>\n",
                            "<style scoped>\n",
                            "    .dataframe tbody tr th:only-of-type {\n",
                            "        vertical-align: middle;\n",
                            "    }\n",
                            "\n",
                            "    .dataframe tbody tr th {\n",
                            "        vertical-align: top;\n",
                            "    }\n",
                            "\n",
                            "    .dataframe thead th {\n",
                            "        text-align: right;\n",
                            "    }\n",
                            "</style>\n",
                            "<table border=\"1\" class=\"dataframe\">\n",
                            "  <thead>\n",
                            "    <tr style=\"text-align: right;\">\n",
                            "      <th></th>\n",
                            "      <th>country</th>\n",
                            "      <th>vs</th>\n",
                            "      <th>team_score</th>\n",
                            "      <th>vs_score</th>\n",
                            "      <th>date</th>\n",
                            "      <th>#</th>\n",
                            "      <th>Players</th>\n",
                            "      <th>Min</th>\n",
                            "      <th>Pts</th>\n",
                            "      <th>FG</th>\n",
                            "      <th>...</th>\n",
                            "      <th>OREB</th>\n",
                            "      <th>DREB</th>\n",
                            "      <th>REB</th>\n",
                            "      <th>AST</th>\n",
                            "      <th>PF</th>\n",
                            "      <th>TO</th>\n",
                            "      <th>STL</th>\n",
                            "      <th>BLK</th>\n",
                            "      <th>+/-</th>\n",
                            "      <th>EFF</th>\n",
                            "    </tr>\n",
                            "  </thead>\n",
                            "  <tbody>\n",
                            "    <tr>\n",
                            "      <th>0</th>\n",
                            "      <td>Iran</td>\n",
                            "      <td>Czech Republic</td>\n",
                            "      <td>78</td>\n",
                            "      <td>84</td>\n",
                            "      <td>2507</td>\n",
                            "      <td>3</td>\n",
                            "      <td>Mohammadsina Vahedi</td>\n",
                            "      <td>02:33</td>\n",
                            "      <td>0</td>\n",
                            "      <td>0/2</td>\n",
                            "      <td>...</td>\n",
                            "      <td>0</td>\n",
                            "      <td>0</td>\n",
                            "      <td>0</td>\n",
                            "      <td>0</td>\n",
                            "      <td>0</td>\n",
                            "      <td>1</td>\n",
                            "      <td>0</td>\n",
                            "      <td>0</td>\n",
                            "      <td>-3</td>\n",
                            "      <td>-3</td>\n",
                            "    </tr>\n",
                            "    <tr>\n",
                            "      <th>1</th>\n",
                            "      <td>Iran</td>\n",
                            "      <td>Czech Republic</td>\n",
                            "      <td>78</td>\n",
                            "      <td>84</td>\n",
                            "      <td>2507</td>\n",
                            "      <td>5</td>\n",
                            "      <td>Pujan Jalalpoor</td>\n",
                            "      <td>09:04</td>\n",
                            "      <td>3</td>\n",
                            "      <td>1/3</td>\n",
                            "      <td>...</td>\n",
                            "      <td>0</td>\n",
                            "      <td>0</td>\n",
                            "      <td>0</td>\n",
                            "      <td>0</td>\n",
                            "      <td>0</td>\n",
                            "      <td>1</td>\n",
                            "      <td>0</td>\n",
                            "      <td>0</td>\n",
                            "      <td>-6</td>\n",
                            "      <td>0</td>\n",
                            "    </tr>\n",
                            "    <tr>\n",
                            "      <th>2</th>\n",
                            "      <td>Iran</td>\n",
                            "      <td>Czech Republic</td>\n",
                            "      <td>78</td>\n",
                            "      <td>84</td>\n",
                            "      <td>2507</td>\n",
                            "      <td>7</td>\n",
                            "      <td>Mohammad Hassanzadeh</td>\n",
                            "      <td>0:0</td>\n",
                            "      <td>0</td>\n",
                            "      <td>0/0</td>\n",
                            "      <td>...</td>\n",
                            "      <td>0</td>\n",
                            "      <td>0</td>\n",
                            "      <td>0</td>\n",
                            "      <td>0</td>\n",
                            "      <td>0</td>\n",
                            "      <td>0</td>\n",
                            "      <td>0</td>\n",
                            "      <td>0</td>\n",
                            "      <td>0</td>\n",
                            "      <td>0</td>\n",
                            "    </tr>\n",
                            "    <tr>\n",
                            "      <th>3</th>\n",
                            "      <td>Iran</td>\n",
                            "      <td>Czech Republic</td>\n",
                            "      <td>78</td>\n",
                            "      <td>84</td>\n",
                            "      <td>2507</td>\n",
                            "      <td>8</td>\n",
                            "      <td>Saeid Davarpanah</td>\n",
                            "      <td>0:0</td>\n",
                            "      <td>0</td>\n",
                            "      <td>0/0</td>\n",
                            "      <td>...</td>\n",
                            "      <td>0</td>\n",
                            "      <td>0</td>\n",
                            "      <td>0</td>\n",
                            "      <td>0</td>\n",
                            "      <td>0</td>\n",
                            "      <td>0</td>\n",
                            "      <td>0</td>\n",
                            "      <td>0</td>\n",
                            "      <td>0</td>\n",
                            "      <td>0</td>\n",
                            "    </tr>\n",
                            "    <tr>\n",
                            "      <th>4</th>\n",
                            "      <td>Iran</td>\n",
                            "      <td>Czech Republic</td>\n",
                            "      <td>78</td>\n",
                            "      <td>84</td>\n",
                            "      <td>2507</td>\n",
                            "      <td>13</td>\n",
                            "      <td>Mohammad Jamshidijafarabadi</td>\n",
                            "      <td>28:36</td>\n",
                            "      <td>16</td>\n",
                            "      <td>7/11</td>\n",
                            "      <td>...</td>\n",
                            "      <td>0</td>\n",
                            "      <td>1</td>\n",
                            "      <td>1</td>\n",
                            "      <td>7</td>\n",
                            "      <td>1</td>\n",
                            "      <td>7</td>\n",
                            "      <td>1</td>\n",
                            "      <td>0</td>\n",
                            "      <td>-5</td>\n",
                            "      <td>13</td>\n",
                            "    </tr>\n",
                            "  </tbody>\n",
                            "</table>\n",
                            "<p>5 rows × 23 columns</p>\n",
                            "</div>"
                        ]
                    },
                    "metadata": {},
                    "execution_count": 6
                }
            ],
            "metadata": {}
        },
        {
            "cell_type": "markdown",
            "source": [
                "This dataset is stored in **basketball_olympic_players_game_stats.csv** file. This dataset is still a bit ugly, so it will be cleant in **basketball_olympic_players_game_stats.csv**."
            ],
            "metadata": {}
        },
        {
            "cell_type": "code",
            "execution_count": 7,
            "source": [
                "df.to_csv(\"basketball_olympic_players_game_stats.csv\", index = None)"
            ],
            "outputs": [],
            "metadata": {}
        },
        {
            "cell_type": "markdown",
            "source": [
                "Finally, the dataset columns have been conveniently annotated in **basketball_olympic_players_game_stats.json** (description and datatype)."
            ],
            "metadata": {}
        }
    ],
    "metadata": {
        "orig_nbformat": 4,
        "language_info": {
            "name": "python",
            "version": "3.8.8",
            "mimetype": "text/x-python",
            "codemirror_mode": {
                "name": "ipython",
                "version": 3
            },
            "pygments_lexer": "ipython3",
            "nbconvert_exporter": "python",
            "file_extension": ".py"
        },
        "kernelspec": {
            "name": "python3",
            "display_name": "Python 3.8.8 64-bit ('base': conda)"
        },
        "interpreter": {
            "hash": "03030bd9ec34cbbf89af67f3831b1bdca51600da867b5ad50a6d7b4cccc59960"
        }
    },
    "nbformat": 4,
    "nbformat_minor": 2
}