{
 "metadata": {
  "language_info": {
   "codemirror_mode": {
    "name": "ipython",
    "version": 3
   },
   "file_extension": ".py",
   "mimetype": "text/x-python",
   "name": "python",
   "nbconvert_exporter": "python",
   "pygments_lexer": "ipython3",
   "version": "3.8.3"
  },
  "orig_nbformat": 2,
  "kernelspec": {
   "name": "python383jvsc74a57bd082195b71e57a4711562a3c4e3b93c246e382014c3225d48cb6fc3319d016ad0b",
   "display_name": "Python 3.8.3 64-bit ('base': conda)"
  }
 },
 "nbformat": 4,
 "nbformat_minor": 2,
 "cells": [
  {
   "source": [
    "# Exploring all the PlayOffs series in NBA history\n",
    "\n",
    "In this series of notebooks I am using a table that you can find in <a href=\"https://www.basketball-reference.com/playoffs/series.html\">BasketballReference</a> to analyze all PlayOffs series in the history of NBA. In this first notebook, I am preparing the data (in the form of three CSV tables: one for NBA PlayOffs series, another one for ABA and the last one for the BAA).\n",
    "\n",
    "I am going to perform this first task using **requests**, **scrapy** and **pandas**."
   ],
   "cell_type": "markdown",
   "metadata": {}
  },
  {
   "cell_type": "code",
   "execution_count": 1,
   "metadata": {},
   "outputs": [],
   "source": [
    "import requests\n",
    "from scrapy import Selector"
   ]
  },
  {
   "cell_type": "code",
   "execution_count": 2,
   "metadata": {},
   "outputs": [],
   "source": [
    "page = requests.get(\"https://www.basketball-reference.com/playoffs/series.html\")\n",
    "sel = Selector(page)"
   ]
  },
  {
   "source": [
    "The table is between\n",
    "tags with id=\"playoffs_series\". Then, the XPath for this table is '//table@id=\"playoffs_series\"'"
   ],
   "cell_type": "markdown",
   "metadata": {}
  },
  {
   "cell_type": "code",
   "execution_count": 3,
   "metadata": {},
   "outputs": [
    {
     "output_type": "execute_result",
     "data": {
      "text/plain": [
       "  Unnamed: 0_level_0 Unnamed: 1_level_0        Unnamed: 2_level_0  \\\n",
       "                  Yr                 Lg                    Series   \n",
       "0               2020                NBA  Eastern Conf First Round   \n",
       "1               2020                NBA  Eastern Conf First Round   \n",
       "2               2020                NBA  Eastern Conf First Round   \n",
       "3               2020                NBA  Eastern Conf First Round   \n",
       "4               2020                NBA  Western Conf First Round   \n",
       "\n",
       "      Unnamed: 3_level_0 Unnamed: 4_level_0                  Winner     \\\n",
       "      Unnamed: 3_level_1 Unnamed: 4_level_1                    Team  W   \n",
       "0  Aug 18 - Aug 29, 2020                NaN     Milwaukee Bucks (1)  4   \n",
       "1  Aug 17 - Aug 23, 2020                NaN     Toronto Raptors (2)  4   \n",
       "2  Aug 17 - Aug 23, 2020                NaN      Boston Celtics (3)  4   \n",
       "3  Aug 18 - Aug 24, 2020                NaN          Miami Heat (5)  4   \n",
       "4  Aug 18 - Aug 29, 2020                NaN  Los Angeles Lakers (1)  4   \n",
       "\n",
       "  Unnamed: 7_level_0                       Loser    Unnamed: 10_level_0  \\\n",
       "  Unnamed: 7_level_1                        Team  W Unnamed: 10_level_1   \n",
       "0                NaN           Orlando Magic (8)  1                 NaN   \n",
       "1                NaN           Brooklyn Nets (7)  0                 NaN   \n",
       "2                NaN      Philadelphia 76ers (6)  0                 NaN   \n",
       "3                NaN          Indiana Pacers (4)  0                 NaN   \n",
       "4                NaN  Portland Trail Blazers (8)  1                 NaN   \n",
       "\n",
       "  Unnamed: 11_level_0 Unnamed: 12_level_0  \n",
       "             Favorite            Underdog  \n",
       "0         MIL (-7500)         ORL (+3250)  \n",
       "1         TOR (-2200)         BRK (+1315)  \n",
       "2          BOS (-450)          PHI (+360)  \n",
       "3          MIA (-320)          IND (+260)  \n",
       "4          LAL (-550)          POR (+425)  "
      ],
      "text/html": "<div>\n<style scoped>\n    .dataframe tbody tr th:only-of-type {\n        vertical-align: middle;\n    }\n\n    .dataframe tbody tr th {\n        vertical-align: top;\n    }\n\n    .dataframe thead tr th {\n        text-align: left;\n    }\n</style>\n<table border=\"1\" class=\"dataframe\">\n  <thead>\n    <tr>\n      <th></th>\n      <th>Unnamed: 0_level_0</th>\n      <th>Unnamed: 1_level_0</th>\n      <th>Unnamed: 2_level_0</th>\n      <th>Unnamed: 3_level_0</th>\n      <th>Unnamed: 4_level_0</th>\n      <th colspan=\"2\" halign=\"left\">Winner</th>\n      <th>Unnamed: 7_level_0</th>\n      <th colspan=\"2\" halign=\"left\">Loser</th>\n      <th>Unnamed: 10_level_0</th>\n      <th>Unnamed: 11_level_0</th>\n      <th>Unnamed: 12_level_0</th>\n    </tr>\n    <tr>\n      <th></th>\n      <th>Yr</th>\n      <th>Lg</th>\n      <th>Series</th>\n      <th>Unnamed: 3_level_1</th>\n      <th>Unnamed: 4_level_1</th>\n      <th>Team</th>\n      <th>W</th>\n      <th>Unnamed: 7_level_1</th>\n      <th>Team</th>\n      <th>W</th>\n      <th>Unnamed: 10_level_1</th>\n      <th>Favorite</th>\n      <th>Underdog</th>\n    </tr>\n  </thead>\n  <tbody>\n    <tr>\n      <th>0</th>\n      <td>2020</td>\n      <td>NBA</td>\n      <td>Eastern Conf First Round</td>\n      <td>Aug 18 - Aug 29, 2020</td>\n      <td>NaN</td>\n      <td>Milwaukee Bucks (1)</td>\n      <td>4</td>\n      <td>NaN</td>\n      <td>Orlando Magic (8)</td>\n      <td>1</td>\n      <td>NaN</td>\n      <td>MIL (-7500)</td>\n      <td>ORL (+3250)</td>\n    </tr>\n    <tr>\n      <th>1</th>\n      <td>2020</td>\n      <td>NBA</td>\n      <td>Eastern Conf First Round</td>\n      <td>Aug 17 - Aug 23, 2020</td>\n      <td>NaN</td>\n      <td>Toronto Raptors (2)</td>\n      <td>4</td>\n      <td>NaN</td>\n      <td>Brooklyn Nets (7)</td>\n      <td>0</td>\n      <td>NaN</td>\n      <td>TOR (-2200)</td>\n      <td>BRK (+1315)</td>\n    </tr>\n    <tr>\n      <th>2</th>\n      <td>2020</td>\n      <td>NBA</td>\n      <td>Eastern Conf First Round</td>\n      <td>Aug 17 - Aug 23, 2020</td>\n      <td>NaN</td>\n      <td>Boston Celtics (3)</td>\n      <td>4</td>\n      <td>NaN</td>\n      <td>Philadelphia 76ers (6)</td>\n      <td>0</td>\n      <td>NaN</td>\n      <td>BOS (-450)</td>\n      <td>PHI (+360)</td>\n    </tr>\n    <tr>\n      <th>3</th>\n      <td>2020</td>\n      <td>NBA</td>\n      <td>Eastern Conf First Round</td>\n      <td>Aug 18 - Aug 24, 2020</td>\n      <td>NaN</td>\n      <td>Miami Heat (5)</td>\n      <td>4</td>\n      <td>NaN</td>\n      <td>Indiana Pacers (4)</td>\n      <td>0</td>\n      <td>NaN</td>\n      <td>MIA (-320)</td>\n      <td>IND (+260)</td>\n    </tr>\n    <tr>\n      <th>4</th>\n      <td>2020</td>\n      <td>NBA</td>\n      <td>Western Conf First Round</td>\n      <td>Aug 18 - Aug 29, 2020</td>\n      <td>NaN</td>\n      <td>Los Angeles Lakers (1)</td>\n      <td>4</td>\n      <td>NaN</td>\n      <td>Portland Trail Blazers (8)</td>\n      <td>1</td>\n      <td>NaN</td>\n      <td>LAL (-550)</td>\n      <td>POR (+425)</td>\n    </tr>\n  </tbody>\n</table>\n</div>"
     },
     "metadata": {},
     "execution_count": 3
    }
   ],
   "source": [
    "import pandas as pd\n",
    "\n",
    "xpath = '//table[@id=\"playoffs_series\"]'\n",
    "df = pd.read_html(sel.xpath(xpath).extract()[0])[0]\n",
    "\n",
    "df.head()"
   ]
  },
  {
   "source": [
    "We see the set of column names is a total mess. Next we are giving each column a meaningful name. Also, note that some columns are empty (specifically columns 4, 7 and 10); the names for these columns will start with \"rm\" to remove them before doing any other wrangling with the data."
   ],
   "cell_type": "markdown",
   "metadata": {}
  },
  {
   "cell_type": "code",
   "execution_count": 4,
   "metadata": {},
   "outputs": [],
   "source": [
    "df.columns = [\"Year\",      # Year of the PlayOffs series, integer\n",
    "              \"League\",    # League of the PlayOffs, string\n",
    "              \"Series\",    # Series name, string\n",
    "              \"Date\",      # Date of start and end of the series\n",
    "              \"rm1\",       # to be removed\n",
    "              \"Team_win\",  # Team who won the series\n",
    "              \"Wins_win\",  # Games won by the team who won the series\n",
    "              \"rm2\",       # to be removed\n",
    "              \"Team_lose\", # Team who lost the series\n",
    "              \"Wins_lose\", # Games won by the team who won the series\n",
    "              \"rm3\",       # to be removed\n",
    "              \"Fav\",       # Favourite team for winnning the series\n",
    "              \"Underdog\"]  # Non-favourite team for winning the series\n",
    "\n",
    "# Removal of the empty columns to be removed\n",
    "for col in [col for col in df.columns if col.startswith(\"rm\")]:\n",
    "    del df[col]"
   ]
  },
  {
   "source": [
    "Also, there are some rows that are not part of the data, and only exist to give some nice format to the table in the BasketballReference web. These rows are easily-recognizable: the value of their \"Year\" column is not an integer; you guessed right: all the PlayOffs series must contain a year where they took place.\n",
    "\n",
    "In this block of code I am also changing the datatype of columns **Year**, **Wins_win** and **Wins_lose** to ```integer```."
   ],
   "cell_type": "markdown",
   "metadata": {}
  },
  {
   "cell_type": "code",
   "execution_count": 5,
   "metadata": {},
   "outputs": [],
   "source": [
    "df = df[df.Year.apply(lambda x: str(x).isdigit())].astype(\n",
    "    {\n",
    "        \"Year\":int,\n",
    "        \"Wins_win\": int, \n",
    "        \"Wins_lose\": int\n",
    "        }\n",
    "         )"
   ]
  },
  {
   "source": [
    "The records in the table we have obtained from BasketballReference contains information about NBA, ABA and BAA PlayOffs series. Next, I am dividing this initial table in three separated dataframes, one for each league."
   ],
   "cell_type": "markdown",
   "metadata": {}
  },
  {
   "cell_type": "code",
   "execution_count": 6,
   "metadata": {},
   "outputs": [
    {
     "output_type": "execute_result",
     "data": {
      "text/plain": [
       "NBA    807\n",
       "ABA     63\n",
       "BAA     19\n",
       "Name: League, dtype: int64"
      ]
     },
     "metadata": {},
     "execution_count": 6
    }
   ],
   "source": [
    "df.League.value_counts()"
   ]
  },
  {
   "cell_type": "code",
   "execution_count": 7,
   "metadata": {},
   "outputs": [
    {
     "output_type": "stream",
     "name": "stdout",
     "text": [
      "Years of ABA series:\n1968    7\n1969    7\n1970    7\n1971    8\n1972    7\n1973    7\n1974    8\n1975    8\n1976    4\nName: Year, dtype: int64\n\nYears of BAA series:\n1947    5\n1948    7\n1949    7\nName: Year, dtype: int64\n"
     ]
    }
   ],
   "source": [
    "# ABA PlayOffs series\n",
    "aba = df[df[\"League\"] == \"ABA\"]\n",
    "print(\"Years of ABA series:\")\n",
    "print(aba.Year.value_counts().sort_index(), end = \"\\n\\n\")\n",
    "\n",
    "# BAA PlayOffs series\n",
    "baa = df[df[\"League\"] == \"BAA\"]\n",
    "print(\"Years of BAA series:\")\n",
    "print(baa.Year.value_counts().sort_index())\n",
    "\n",
    "# NBA PlayOffs series\n",
    "nba = df[df[\"League\"] == \"NBA\"]\n",
    "del nba[\"League\"]"
   ]
  },
  {
   "source": [
    "Finally, I am saving these three dataframes in CSV files for their use in future notebooks."
   ],
   "cell_type": "markdown",
   "metadata": {}
  },
  {
   "cell_type": "code",
   "execution_count": 8,
   "metadata": {},
   "outputs": [],
   "source": [
    "aba.to_csv(\"aba.csv\", index = False)\n",
    "baa.to_csv(\"baa.csv\", index = False)\n",
    "nba.to_csv(\"nba.csv\", index = False)"
   ]
  }
 ]
}