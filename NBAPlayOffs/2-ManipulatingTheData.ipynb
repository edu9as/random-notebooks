{
 "metadata": {
  "language_info": {
   "codemirror_mode": {
    "name": "ipython",
    "version": 3
   },
   "file_extension": ".py",
   "mimetype": "text/x-python",
   "name": "python",
   "nbconvert_exporter": "python",
   "pygments_lexer": "ipython3",
   "version": "3.8.3"
  },
  "orig_nbformat": 2,
  "kernelspec": {
   "name": "python383jvsc74a57bd082195b71e57a4711562a3c4e3b93c246e382014c3225d48cb6fc3319d016ad0b",
   "display_name": "Python 3.8.3 64-bit ('base': conda)"
  }
 },
 "nbformat": 4,
 "nbformat_minor": 2,
 "cells": [
  {
   "source": [
    "# Manipulating the data\n",
    "\n",
    "In a <a href=\"https://github.com/edu9as/random-notebooks/blob/main/NBAPlayOffs/PreparingTheData.ipynb\">previous notebook</a> I got a table from BasketballReference website and, after some basic formatting (renaming columns, removing empty rows and columns), the dataset was splitted according to the league of each PlayOffs series. The result were three CSV files: ```aba.csv```, ```baa.csv``` and ```nba.csv```.\n",
    "\n",
    "In this notebook, I am using data wrangling methods to clean the data in ```nba.csv```. These methods can be applied to the dataframes in the other two files, as the original structure of the data is the same.\n",
    "\n",
    "Let's load the dataframe inside this ```nba.csv``` file and see how it looks:"
   ],
   "cell_type": "markdown",
   "metadata": {}
  },
  {
   "cell_type": "code",
   "execution_count": 2,
   "metadata": {},
   "outputs": [
    {
     "output_type": "execute_result",
     "data": {
      "text/plain": [
       "   Year                    Series                   Date  \\\n",
       "0  2020  Eastern Conf First Round  Aug 18 - Aug 29, 2020   \n",
       "1  2020  Eastern Conf First Round  Aug 17 - Aug 23, 2020   \n",
       "2  2020  Eastern Conf First Round  Aug 17 - Aug 23, 2020   \n",
       "3  2020  Eastern Conf First Round  Aug 18 - Aug 24, 2020   \n",
       "4  2020  Western Conf First Round  Aug 18 - Aug 29, 2020   \n",
       "\n",
       "                 Team_win  Wins_win                   Team_lose  Wins_lose  \\\n",
       "0     Milwaukee Bucks (1)         4           Orlando Magic (8)          1   \n",
       "1     Toronto Raptors (2)         4           Brooklyn Nets (7)          0   \n",
       "2      Boston Celtics (3)         4      Philadelphia 76ers (6)          0   \n",
       "3          Miami Heat (5)         4          Indiana Pacers (4)          0   \n",
       "4  Los Angeles Lakers (1)         4  Portland Trail Blazers (8)          1   \n",
       "\n",
       "           Fav     Underdog  \n",
       "0  MIL (-7500)  ORL (+3250)  \n",
       "1  TOR (-2200)  BRK (+1315)  \n",
       "2   BOS (-450)   PHI (+360)  \n",
       "3   MIA (-320)   IND (+260)  \n",
       "4   LAL (-550)   POR (+425)  "
      ],
      "text/html": "<div>\n<style scoped>\n    .dataframe tbody tr th:only-of-type {\n        vertical-align: middle;\n    }\n\n    .dataframe tbody tr th {\n        vertical-align: top;\n    }\n\n    .dataframe thead th {\n        text-align: right;\n    }\n</style>\n<table border=\"1\" class=\"dataframe\">\n  <thead>\n    <tr style=\"text-align: right;\">\n      <th></th>\n      <th>Year</th>\n      <th>Series</th>\n      <th>Date</th>\n      <th>Team_win</th>\n      <th>Wins_win</th>\n      <th>Team_lose</th>\n      <th>Wins_lose</th>\n      <th>Fav</th>\n      <th>Underdog</th>\n    </tr>\n  </thead>\n  <tbody>\n    <tr>\n      <th>0</th>\n      <td>2020</td>\n      <td>Eastern Conf First Round</td>\n      <td>Aug 18 - Aug 29, 2020</td>\n      <td>Milwaukee Bucks (1)</td>\n      <td>4</td>\n      <td>Orlando Magic (8)</td>\n      <td>1</td>\n      <td>MIL (-7500)</td>\n      <td>ORL (+3250)</td>\n    </tr>\n    <tr>\n      <th>1</th>\n      <td>2020</td>\n      <td>Eastern Conf First Round</td>\n      <td>Aug 17 - Aug 23, 2020</td>\n      <td>Toronto Raptors (2)</td>\n      <td>4</td>\n      <td>Brooklyn Nets (7)</td>\n      <td>0</td>\n      <td>TOR (-2200)</td>\n      <td>BRK (+1315)</td>\n    </tr>\n    <tr>\n      <th>2</th>\n      <td>2020</td>\n      <td>Eastern Conf First Round</td>\n      <td>Aug 17 - Aug 23, 2020</td>\n      <td>Boston Celtics (3)</td>\n      <td>4</td>\n      <td>Philadelphia 76ers (6)</td>\n      <td>0</td>\n      <td>BOS (-450)</td>\n      <td>PHI (+360)</td>\n    </tr>\n    <tr>\n      <th>3</th>\n      <td>2020</td>\n      <td>Eastern Conf First Round</td>\n      <td>Aug 18 - Aug 24, 2020</td>\n      <td>Miami Heat (5)</td>\n      <td>4</td>\n      <td>Indiana Pacers (4)</td>\n      <td>0</td>\n      <td>MIA (-320)</td>\n      <td>IND (+260)</td>\n    </tr>\n    <tr>\n      <th>4</th>\n      <td>2020</td>\n      <td>Western Conf First Round</td>\n      <td>Aug 18 - Aug 29, 2020</td>\n      <td>Los Angeles Lakers (1)</td>\n      <td>4</td>\n      <td>Portland Trail Blazers (8)</td>\n      <td>1</td>\n      <td>LAL (-550)</td>\n      <td>POR (+425)</td>\n    </tr>\n  </tbody>\n</table>\n</div>"
     },
     "metadata": {},
     "execution_count": 2
    }
   ],
   "source": [
    "import pandas as pd\n",
    "\n",
    "nba = pd.read_csv(\"nba.csv\")\n",
    "nba.head()"
   ]
  },
  {
   "source": [
    "I see tons of possibilities to improve the representation of the data in this dataframe. Let's discuss it column by column:\n",
    "\n",
    "- **Year**: integer type column, I think there is not anything to improve here by the moment.\n",
    "- **Series**: I think this column might be much more useful if it were splitted in two columns, i.e., \n",
    "    - **Series_conference**: categorical type column, three unique values (**E** for Eastern, **W** for Western and **F** for NBA Finals).\n",
    "    - **Series_round**: categorical type column, four distinct values (**0** for NBA Finals, **1** for Conference Finals, **2** for Conference Semifinals and **3** for First Round). The reason why I have decided to encode the levels in this order is because the number of First Round series has changed with time.\n",
    "- **Date**: I prefer these values to be ```datetime``` rather than string. Also, I thing splitting them in **Date_start** and **Date_end** would be a good idea.\n",
    "- **Team_win** and **Team_lose**: in both columns, the name of the team is before the parenthesis and the seed of the team (i.e., the ranking of the team in its conference after regular season) is found between parenthesis. Then, these columns should be splitted in:\n",
    "    - **Team_win** and **Seed_win**\n",
    "    - **Team_lose** and **Seed_lose**\n",
    "- **Wins_win** and **Wins_lose** represent the games won by the team who won the series and the number of games won by the team who won the series, respectively. I think nothing can be improved in these columns by the moment.\n",
    "- **Fav** and **Underdog**: these columns give information about the team who was the favorite for winning the series right before they took place, and the odds between parenthesis. I am thinking of splitting them in **Fav_team** and **Fav_odds**, and **Underdog_team** and **Underdog_odds**.\n",
    "\n",
    "Then, let's go step by step."
   ],
   "cell_type": "markdown",
   "metadata": {}
  },
  {
   "source": [
    "## Reformatting Series column\n",
    "\n",
    "Let's inspect the data in **Series** column:"
   ],
   "cell_type": "markdown",
   "metadata": {}
  },
  {
   "cell_type": "code",
   "execution_count": 4,
   "metadata": {},
   "outputs": [
    {
     "output_type": "execute_result",
     "data": {
      "text/plain": [
       "Eastern Conf First Round          164\n",
       "Western Conf First Round          164\n",
       "Eastern Conf Semifinals           100\n",
       "Western Conf Semifinals           100\n",
       "Finals                             71\n",
       "Eastern Conf Finals                50\n",
       "Western Conf Finals                50\n",
       "Western Div Semifinals             28\n",
       "Eastern Div Semifinals             28\n",
       "Western Div Finals                 21\n",
       "Eastern Div Finals                 21\n",
       "Central Div Semifinals              2\n",
       "Western Div Tiebreak                2\n",
       "Eastern Div 3rd Place Tiebreak      1\n",
       "Central Div Finals                  1\n",
       "Semifinals                          1\n",
       "Western Div 2nd Place Tiebreak      1\n",
       "Central Div 1st Place Tiebreak      1\n",
       "Central Div 3rd Place Tiebreak      1\n",
       "Name: Series, dtype: int64"
      ]
     },
     "metadata": {},
     "execution_count": 4
    }
   ],
   "source": [
    "nba.Series.value_counts()"
   ]
  },
  {
   "source": [
    "We see there are some strange series that are not Conference-wise but Division-wise. These series occured before 1971, season when the current NBA PlayOffs format was adopted. Then, I am splitting the database into **old_nba** and **nba** dataframes."
   ],
   "cell_type": "markdown",
   "metadata": {}
  },
  {
   "cell_type": "code",
   "execution_count": 6,
   "metadata": {},
   "outputs": [],
   "source": [
    "old_nba = nba[nba.Year <= 1970]\n",
    "nba = nba[nba.Year > 1970]"
   ]
  },
  {
   "source": [
    "Now the data in **Series** column is more homogeneous:"
   ],
   "cell_type": "markdown",
   "metadata": {}
  },
  {
   "cell_type": "code",
   "execution_count": 7,
   "metadata": {},
   "outputs": [
    {
     "output_type": "execute_result",
     "data": {
      "text/plain": [
       "Eastern Conf First Round    164\n",
       "Western Conf First Round    164\n",
       "Eastern Conf Semifinals     100\n",
       "Western Conf Semifinals     100\n",
       "Finals                       50\n",
       "Eastern Conf Finals          50\n",
       "Western Conf Finals          50\n",
       "Name: Series, dtype: int64"
      ]
     },
     "metadata": {},
     "execution_count": 7
    }
   ],
   "source": [
    "nba.Series.value_counts()"
   ]
  },
  {
   "cell_type": "code",
   "execution_count": 8,
   "metadata": {},
   "outputs": [],
   "source": [
    "import warnings\n",
    "\n",
    "warnings.filterwarnings('ignore')"
   ]
  },
  {
   "cell_type": "code",
   "execution_count": 9,
   "metadata": {},
   "outputs": [],
   "source": [
    "import numpy as np\n",
    "\n",
    "nba[\"Series_conference\"] = np.where([(\"Eastern\" in v) \n",
    "                                     for v in nba.Series.values], \n",
    "                                    \"E\",  # E for Eastern series\n",
    "                                    np.where([(\"Western\" in v) \n",
    "                                              for v in nba.Series.values], \n",
    "                                             \"W\",  # W for Western series\n",
    "                                             \"F\"))  # F for NBA Finals series\n",
    "\n",
    "nba[\"Series_round\"] = np.where([(\"First\" in v) for v in nba.Series.values], \n",
    "                               3,  # First Round encoder as 3\n",
    "                               np.where([(\"Semifinals\" in v) \n",
    "                                         for v in nba.Series.values], \n",
    "                                        2,  # Conference semifinals encoded as 2\n",
    "                                        np.where([(\"Finals\" == v) \n",
    "                                        for v in nba.Series.values], \n",
    "                                        0,  # NBA Finals encoded as 0\n",
    "                                        1)))  # Conference Finals encoded as 1"
   ]
  },
  {
   "source": [
    "Let's explore the result:"
   ],
   "cell_type": "markdown",
   "metadata": {}
  },
  {
   "cell_type": "code",
   "execution_count": 10,
   "metadata": {},
   "outputs": [
    {
     "output_type": "execute_result",
     "data": {
      "text/plain": [
       "                       Series Series_conference  Series_round\n",
       "501  Western Conf First Round                 W             3\n",
       "216  Western Conf First Round                 W             3\n",
       "665   Eastern Conf Semifinals                 E             2\n",
       "298       Western Conf Finals                 W             1\n",
       "114   Eastern Conf Semifinals                 E             2\n",
       "53    Eastern Conf Semifinals                 E             2\n",
       "289  Western Conf First Round                 W             3\n",
       "502  Western Conf First Round                 W             3\n",
       "416   Western Conf Semifinals                 W             2\n",
       "393  Eastern Conf First Round                 E             3"
      ],
      "text/html": "<div>\n<style scoped>\n    .dataframe tbody tr th:only-of-type {\n        vertical-align: middle;\n    }\n\n    .dataframe tbody tr th {\n        vertical-align: top;\n    }\n\n    .dataframe thead th {\n        text-align: right;\n    }\n</style>\n<table border=\"1\" class=\"dataframe\">\n  <thead>\n    <tr style=\"text-align: right;\">\n      <th></th>\n      <th>Series</th>\n      <th>Series_conference</th>\n      <th>Series_round</th>\n    </tr>\n  </thead>\n  <tbody>\n    <tr>\n      <th>501</th>\n      <td>Western Conf First Round</td>\n      <td>W</td>\n      <td>3</td>\n    </tr>\n    <tr>\n      <th>216</th>\n      <td>Western Conf First Round</td>\n      <td>W</td>\n      <td>3</td>\n    </tr>\n    <tr>\n      <th>665</th>\n      <td>Eastern Conf Semifinals</td>\n      <td>E</td>\n      <td>2</td>\n    </tr>\n    <tr>\n      <th>298</th>\n      <td>Western Conf Finals</td>\n      <td>W</td>\n      <td>1</td>\n    </tr>\n    <tr>\n      <th>114</th>\n      <td>Eastern Conf Semifinals</td>\n      <td>E</td>\n      <td>2</td>\n    </tr>\n    <tr>\n      <th>53</th>\n      <td>Eastern Conf Semifinals</td>\n      <td>E</td>\n      <td>2</td>\n    </tr>\n    <tr>\n      <th>289</th>\n      <td>Western Conf First Round</td>\n      <td>W</td>\n      <td>3</td>\n    </tr>\n    <tr>\n      <th>502</th>\n      <td>Western Conf First Round</td>\n      <td>W</td>\n      <td>3</td>\n    </tr>\n    <tr>\n      <th>416</th>\n      <td>Western Conf Semifinals</td>\n      <td>W</td>\n      <td>2</td>\n    </tr>\n    <tr>\n      <th>393</th>\n      <td>Eastern Conf First Round</td>\n      <td>E</td>\n      <td>3</td>\n    </tr>\n  </tbody>\n</table>\n</div>"
     },
     "metadata": {},
     "execution_count": 10
    }
   ],
   "source": [
    "import random\n",
    "\n",
    "rand_idx = random.sample(range(len(nba)), k = 10)\n",
    "\n",
    "nba[[\"Series\", \"Series_conference\", \"Series_round\"]].iloc[rand_idx]"
   ]
  },
  {
   "source": [
    "## Date column\n",
    "\n",
    "The strategy here is to capture the start and end date of each PlayOffs series with two simple regular expressions:\n",
    "- Start date is a three-letters word followed by a space followed by one or more digits. The year (4-digits number) is also captured, preceded by a blank space. Then, one valid regular expression is ```\"(\\w{3}\\s\\d+).*(\\s\\d{4})\"```.\n",
    "- End date is very similar to start date, but there are some letters before the end date. Then, one possibility is ```\"\\w.*(\\w{3}\\s\\d+).*(\\s\\d{4})\"```."
   ],
   "cell_type": "markdown",
   "metadata": {}
  },
  {
   "cell_type": "code",
   "execution_count": 11,
   "metadata": {},
   "outputs": [],
   "source": [
    "import re\n",
    "\n",
    "start = \"(\\w{3}\\s\\d+).*(\\s\\d{4})\"\n",
    "end = \"\\w.*(\\w{3}\\s\\d+).*(\\s\\d{4})\"\n",
    "\n",
    "nba[\"Date_start\"] = [pd.to_datetime(\"\".join(re.search(start, d).groups())) \n",
    "                     for d in nba.Date.values]\n",
    "nba[\"Date_end\"] = [pd.to_datetime(\"\".join(re.search(end, d).groups())) \n",
    "                   for d in nba.Date.values]"
   ]
  },
  {
   "source": [
    "As a result:"
   ],
   "cell_type": "markdown",
   "metadata": {}
  },
  {
   "cell_type": "code",
   "execution_count": 12,
   "metadata": {},
   "outputs": [
    {
     "output_type": "execute_result",
     "data": {
      "text/plain": [
       "                      Date Date_start   Date_end\n",
       "501  Apr 23 - Apr 29, 1987 1987-04-23 1987-04-29\n",
       "216   Apr 23 - May 6, 2006 2006-04-23 2006-05-06\n",
       "665  Mar 31 - Apr 11, 1972 1972-03-31 1972-04-11\n",
       "298  May 19 - May 27, 2001 2001-05-19 2001-05-27\n",
       "114   May 5 - May 18, 2013 2013-05-05 2013-05-18\n",
       "53     May 1 - May 7, 2017 2017-05-01 2017-05-07\n",
       "289   Apr 21 - May 3, 2001 2001-04-21 2001-05-03\n",
       "502  Apr 23 - Apr 30, 1987 1987-04-23 1987-04-30\n",
       "416  May 10 - May 22, 1993 1993-05-10 1993-05-22\n",
       "393   Apr 29 - May 6, 1994 1994-04-29 1994-05-06"
      ],
      "text/html": "<div>\n<style scoped>\n    .dataframe tbody tr th:only-of-type {\n        vertical-align: middle;\n    }\n\n    .dataframe tbody tr th {\n        vertical-align: top;\n    }\n\n    .dataframe thead th {\n        text-align: right;\n    }\n</style>\n<table border=\"1\" class=\"dataframe\">\n  <thead>\n    <tr style=\"text-align: right;\">\n      <th></th>\n      <th>Date</th>\n      <th>Date_start</th>\n      <th>Date_end</th>\n    </tr>\n  </thead>\n  <tbody>\n    <tr>\n      <th>501</th>\n      <td>Apr 23 - Apr 29, 1987</td>\n      <td>1987-04-23</td>\n      <td>1987-04-29</td>\n    </tr>\n    <tr>\n      <th>216</th>\n      <td>Apr 23 - May 6, 2006</td>\n      <td>2006-04-23</td>\n      <td>2006-05-06</td>\n    </tr>\n    <tr>\n      <th>665</th>\n      <td>Mar 31 - Apr 11, 1972</td>\n      <td>1972-03-31</td>\n      <td>1972-04-11</td>\n    </tr>\n    <tr>\n      <th>298</th>\n      <td>May 19 - May 27, 2001</td>\n      <td>2001-05-19</td>\n      <td>2001-05-27</td>\n    </tr>\n    <tr>\n      <th>114</th>\n      <td>May 5 - May 18, 2013</td>\n      <td>2013-05-05</td>\n      <td>2013-05-18</td>\n    </tr>\n    <tr>\n      <th>53</th>\n      <td>May 1 - May 7, 2017</td>\n      <td>2017-05-01</td>\n      <td>2017-05-07</td>\n    </tr>\n    <tr>\n      <th>289</th>\n      <td>Apr 21 - May 3, 2001</td>\n      <td>2001-04-21</td>\n      <td>2001-05-03</td>\n    </tr>\n    <tr>\n      <th>502</th>\n      <td>Apr 23 - Apr 30, 1987</td>\n      <td>1987-04-23</td>\n      <td>1987-04-30</td>\n    </tr>\n    <tr>\n      <th>416</th>\n      <td>May 10 - May 22, 1993</td>\n      <td>1993-05-10</td>\n      <td>1993-05-22</td>\n    </tr>\n    <tr>\n      <th>393</th>\n      <td>Apr 29 - May 6, 1994</td>\n      <td>1994-04-29</td>\n      <td>1994-05-06</td>\n    </tr>\n  </tbody>\n</table>\n</div>"
     },
     "metadata": {},
     "execution_count": 12
    }
   ],
   "source": [
    "nba[[\"Date\", \"Date_start\", \"Date_end\"]].iloc[rand_idx]"
   ]
  },
  {
   "source": [
    "## Team_win and Team_lose\n",
    "\n",
    "The strategy is the same: capture the team and the seed with regular expressions."
   ],
   "cell_type": "markdown",
   "metadata": {}
  },
  {
   "cell_type": "code",
   "execution_count": 13,
   "metadata": {},
   "outputs": [],
   "source": [
    "nba[\"Seed_win\"] = [int(re.search(\"\\((\\d)\", n).group(1)) \n",
    "                   for n in nba.Team_win.values]\n",
    "nba[\"Team_win\"] = [re.search(\"(.*)\\s\\(\", n).group(1) \n",
    "                   for n in nba.Team_win.values]\n",
    "                   \n",
    "nba[\"Seed_lose\"] = [int(re.search(\"\\((\\d)\", n).group(1)) \n",
    "                    for n in nba.Team_lose.values]\n",
    "nba[\"Team_lose\"] = [re.search(\"(.*)\\s\\(\", n).group(1) \n",
    "                    for n in nba.Team_lose.values]\n"
   ]
  },
  {
   "cell_type": "code",
   "execution_count": 14,
   "metadata": {},
   "outputs": [
    {
     "output_type": "execute_result",
     "data": {
      "text/plain": [
       "                Team_win  Seed_win           Team_lose  Seed_lose\n",
       "501   Los Angeles Lakers         1      Denver Nuggets          8\n",
       "216         Phoenix Suns         2  Los Angeles Lakers          7\n",
       "665      New York Knicks         2   Baltimore Bullets          1\n",
       "298   Los Angeles Lakers         2   San Antonio Spurs          1\n",
       "114       Indiana Pacers         3     New York Knicks          2\n",
       "53   Cleveland Cavaliers         2     Toronto Raptors          3\n",
       "289     Dallas Mavericks         5           Utah Jazz          4\n",
       "502  Seattle SuperSonics         7    Dallas Mavericks          2\n",
       "416  Seattle SuperSonics         3     Houston Rockets          2\n",
       "393      New York Knicks         2     New Jersey Nets          7"
      ],
      "text/html": "<div>\n<style scoped>\n    .dataframe tbody tr th:only-of-type {\n        vertical-align: middle;\n    }\n\n    .dataframe tbody tr th {\n        vertical-align: top;\n    }\n\n    .dataframe thead th {\n        text-align: right;\n    }\n</style>\n<table border=\"1\" class=\"dataframe\">\n  <thead>\n    <tr style=\"text-align: right;\">\n      <th></th>\n      <th>Team_win</th>\n      <th>Seed_win</th>\n      <th>Team_lose</th>\n      <th>Seed_lose</th>\n    </tr>\n  </thead>\n  <tbody>\n    <tr>\n      <th>501</th>\n      <td>Los Angeles Lakers</td>\n      <td>1</td>\n      <td>Denver Nuggets</td>\n      <td>8</td>\n    </tr>\n    <tr>\n      <th>216</th>\n      <td>Phoenix Suns</td>\n      <td>2</td>\n      <td>Los Angeles Lakers</td>\n      <td>7</td>\n    </tr>\n    <tr>\n      <th>665</th>\n      <td>New York Knicks</td>\n      <td>2</td>\n      <td>Baltimore Bullets</td>\n      <td>1</td>\n    </tr>\n    <tr>\n      <th>298</th>\n      <td>Los Angeles Lakers</td>\n      <td>2</td>\n      <td>San Antonio Spurs</td>\n      <td>1</td>\n    </tr>\n    <tr>\n      <th>114</th>\n      <td>Indiana Pacers</td>\n      <td>3</td>\n      <td>New York Knicks</td>\n      <td>2</td>\n    </tr>\n    <tr>\n      <th>53</th>\n      <td>Cleveland Cavaliers</td>\n      <td>2</td>\n      <td>Toronto Raptors</td>\n      <td>3</td>\n    </tr>\n    <tr>\n      <th>289</th>\n      <td>Dallas Mavericks</td>\n      <td>5</td>\n      <td>Utah Jazz</td>\n      <td>4</td>\n    </tr>\n    <tr>\n      <th>502</th>\n      <td>Seattle SuperSonics</td>\n      <td>7</td>\n      <td>Dallas Mavericks</td>\n      <td>2</td>\n    </tr>\n    <tr>\n      <th>416</th>\n      <td>Seattle SuperSonics</td>\n      <td>3</td>\n      <td>Houston Rockets</td>\n      <td>2</td>\n    </tr>\n    <tr>\n      <th>393</th>\n      <td>New York Knicks</td>\n      <td>2</td>\n      <td>New Jersey Nets</td>\n      <td>7</td>\n    </tr>\n  </tbody>\n</table>\n</div>"
     },
     "metadata": {},
     "execution_count": 14
    }
   ],
   "source": [
    "nba[[\"Team_win\", \"Seed_win\", \"Team_lose\", \"Seed_lose\"]].iloc[rand_idx]"
   ]
  },
  {
   "cell_type": "code",
   "execution_count": 15,
   "metadata": {},
   "outputs": [
    {
     "output_type": "execute_result",
     "data": {
      "text/plain": [
       "Year                                  1996\n",
       "Series                 Eastern Conf Finals\n",
       "Date                 May 19 - May 27, 1996\n",
       "Team_win                     Chicago Bulls\n",
       "Wins_win                                 4\n",
       "Team_lose                    Orlando Magic\n",
       "Wins_lose                                0\n",
       "Fav                             CHI (-500)\n",
       "Underdog                        ORL (+350)\n",
       "Series_conference                        E\n",
       "Series_round                             1\n",
       "Date_start             1996-05-19 00:00:00\n",
       "Date_end               1996-05-27 00:00:00\n",
       "Seed_win                                 1\n",
       "Seed_lose                                2\n",
       "Name: 372, dtype: object"
      ]
     },
     "metadata": {},
     "execution_count": 15
    }
   ],
   "source": [
    "nba.iloc[372]"
   ]
  },
  {
   "source": [
    "## Fav and Underdog\n",
    "\n",
    "Finally, let's separate the name of the favorite and underdog teams (indeed, this is an abbreviation, not the real name of the team) from the odds of the teams winning the series. We will also achieve this goal with regular expressions."
   ],
   "cell_type": "markdown",
   "metadata": {}
  },
  {
   "cell_type": "code",
   "execution_count": 16,
   "metadata": {},
   "outputs": [],
   "source": [
    "for col in (\"Fav\", \"Underdog\"):\n",
    "    # Filling empty values with \"NA (0)\"\n",
    "    nba[col] = np.where(nba[col].isnull(),\n",
    "                        \"NA (0)\", \n",
    "                        nba[col])\n",
    "    \n",
    "    # Capturing the data\n",
    "    nba[col + \"_odds\"] = [int(re.search(\"\\(([\\-+\\d]*)\", n).group(1)) \n",
    "                          for n in nba[col].values]\n",
    "    nba[col + \"_team\"] = [re.search(\"(.*)\\s\\(\", n).group(1) \n",
    "                          for n in nba[col].values]"
   ]
  },
  {
   "source": [
    "Does the favorite team always win the series?"
   ],
   "cell_type": "markdown",
   "metadata": {}
  },
  {
   "cell_type": "code",
   "execution_count": 17,
   "metadata": {},
   "outputs": [
    {
     "output_type": "execute_result",
     "data": {
      "text/plain": [
       "                Team_win Fav_team  Fav_odds Underdog_team  Underdog_odds\n",
       "501   Los Angeles Lakers       NA         0            NA              0\n",
       "216         Phoenix Suns      PHO      -360           LAL            300\n",
       "665      New York Knicks       NA         0            NA              0\n",
       "298   Los Angeles Lakers      LAL      -145           SAS            125\n",
       "114       Indiana Pacers      NYK      -190           IND            165\n",
       "53   Cleveland Cavaliers      CLE      -475           TOR            380\n",
       "289     Dallas Mavericks      UTA      -180           DAL            160\n",
       "502  Seattle SuperSonics       NA         0            NA              0\n",
       "416  Seattle SuperSonics      SEA      -135           HOU            115\n",
       "393      New York Knicks      NYK      -360           NJN            280"
      ],
      "text/html": "<div>\n<style scoped>\n    .dataframe tbody tr th:only-of-type {\n        vertical-align: middle;\n    }\n\n    .dataframe tbody tr th {\n        vertical-align: top;\n    }\n\n    .dataframe thead th {\n        text-align: right;\n    }\n</style>\n<table border=\"1\" class=\"dataframe\">\n  <thead>\n    <tr style=\"text-align: right;\">\n      <th></th>\n      <th>Team_win</th>\n      <th>Fav_team</th>\n      <th>Fav_odds</th>\n      <th>Underdog_team</th>\n      <th>Underdog_odds</th>\n    </tr>\n  </thead>\n  <tbody>\n    <tr>\n      <th>501</th>\n      <td>Los Angeles Lakers</td>\n      <td>NA</td>\n      <td>0</td>\n      <td>NA</td>\n      <td>0</td>\n    </tr>\n    <tr>\n      <th>216</th>\n      <td>Phoenix Suns</td>\n      <td>PHO</td>\n      <td>-360</td>\n      <td>LAL</td>\n      <td>300</td>\n    </tr>\n    <tr>\n      <th>665</th>\n      <td>New York Knicks</td>\n      <td>NA</td>\n      <td>0</td>\n      <td>NA</td>\n      <td>0</td>\n    </tr>\n    <tr>\n      <th>298</th>\n      <td>Los Angeles Lakers</td>\n      <td>LAL</td>\n      <td>-145</td>\n      <td>SAS</td>\n      <td>125</td>\n    </tr>\n    <tr>\n      <th>114</th>\n      <td>Indiana Pacers</td>\n      <td>NYK</td>\n      <td>-190</td>\n      <td>IND</td>\n      <td>165</td>\n    </tr>\n    <tr>\n      <th>53</th>\n      <td>Cleveland Cavaliers</td>\n      <td>CLE</td>\n      <td>-475</td>\n      <td>TOR</td>\n      <td>380</td>\n    </tr>\n    <tr>\n      <th>289</th>\n      <td>Dallas Mavericks</td>\n      <td>UTA</td>\n      <td>-180</td>\n      <td>DAL</td>\n      <td>160</td>\n    </tr>\n    <tr>\n      <th>502</th>\n      <td>Seattle SuperSonics</td>\n      <td>NA</td>\n      <td>0</td>\n      <td>NA</td>\n      <td>0</td>\n    </tr>\n    <tr>\n      <th>416</th>\n      <td>Seattle SuperSonics</td>\n      <td>SEA</td>\n      <td>-135</td>\n      <td>HOU</td>\n      <td>115</td>\n    </tr>\n    <tr>\n      <th>393</th>\n      <td>New York Knicks</td>\n      <td>NYK</td>\n      <td>-360</td>\n      <td>NJN</td>\n      <td>280</td>\n    </tr>\n  </tbody>\n</table>\n</div>"
     },
     "metadata": {},
     "execution_count": 17
    }
   ],
   "source": [
    "nba[[\"Team_win\", \"Fav_team\", \"Fav_odds\", \n",
    "     \"Underdog_team\", \"Underdog_odds\"]].iloc[rand_idx]"
   ]
  },
  {
   "source": [
    "## The End\n",
    "\n",
    "The final table looks like this:"
   ],
   "cell_type": "markdown",
   "metadata": {}
  },
  {
   "cell_type": "code",
   "execution_count": 18,
   "metadata": {},
   "outputs": [
    {
     "output_type": "execute_result",
     "data": {
      "text/plain": [
       "     Year Series_conference  Series_round Date_start   Date_end  \\\n",
       "501  1987                 W             3 1987-04-23 1987-04-29   \n",
       "216  2006                 W             3 2006-04-23 2006-05-06   \n",
       "665  1972                 E             2 1972-03-31 1972-04-11   \n",
       "298  2001                 W             1 2001-05-19 2001-05-27   \n",
       "114  2013                 E             2 2013-05-05 2013-05-18   \n",
       "53   2017                 E             2 2017-05-01 2017-05-07   \n",
       "289  2001                 W             3 2001-04-21 2001-05-03   \n",
       "502  1987                 W             3 1987-04-23 1987-04-30   \n",
       "416  1993                 W             2 1993-05-10 1993-05-22   \n",
       "393  1994                 E             3 1994-04-29 1994-05-06   \n",
       "\n",
       "                Team_win  Seed_win  Wins_win           Team_lose  Seed_lose  \\\n",
       "501   Los Angeles Lakers         1         3      Denver Nuggets          8   \n",
       "216         Phoenix Suns         2         4  Los Angeles Lakers          7   \n",
       "665      New York Knicks         2         4   Baltimore Bullets          1   \n",
       "298   Los Angeles Lakers         2         4   San Antonio Spurs          1   \n",
       "114       Indiana Pacers         3         4     New York Knicks          2   \n",
       "53   Cleveland Cavaliers         2         4     Toronto Raptors          3   \n",
       "289     Dallas Mavericks         5         3           Utah Jazz          4   \n",
       "502  Seattle SuperSonics         7         3    Dallas Mavericks          2   \n",
       "416  Seattle SuperSonics         3         4     Houston Rockets          2   \n",
       "393      New York Knicks         2         3     New Jersey Nets          7   \n",
       "\n",
       "     Wins_lose Fav_team  Fav_odds Underdog_team  Underdog_odds  \n",
       "501          0       NA         0            NA              0  \n",
       "216          3      PHO      -360           LAL            300  \n",
       "665          2       NA         0            NA              0  \n",
       "298          0      LAL      -145           SAS            125  \n",
       "114          2      NYK      -190           IND            165  \n",
       "53           0      CLE      -475           TOR            380  \n",
       "289          2      UTA      -180           DAL            160  \n",
       "502          1       NA         0            NA              0  \n",
       "416          3      SEA      -135           HOU            115  \n",
       "393          1      NYK      -360           NJN            280  "
      ],
      "text/html": "<div>\n<style scoped>\n    .dataframe tbody tr th:only-of-type {\n        vertical-align: middle;\n    }\n\n    .dataframe tbody tr th {\n        vertical-align: top;\n    }\n\n    .dataframe thead th {\n        text-align: right;\n    }\n</style>\n<table border=\"1\" class=\"dataframe\">\n  <thead>\n    <tr style=\"text-align: right;\">\n      <th></th>\n      <th>Year</th>\n      <th>Series_conference</th>\n      <th>Series_round</th>\n      <th>Date_start</th>\n      <th>Date_end</th>\n      <th>Team_win</th>\n      <th>Seed_win</th>\n      <th>Wins_win</th>\n      <th>Team_lose</th>\n      <th>Seed_lose</th>\n      <th>Wins_lose</th>\n      <th>Fav_team</th>\n      <th>Fav_odds</th>\n      <th>Underdog_team</th>\n      <th>Underdog_odds</th>\n    </tr>\n  </thead>\n  <tbody>\n    <tr>\n      <th>501</th>\n      <td>1987</td>\n      <td>W</td>\n      <td>3</td>\n      <td>1987-04-23</td>\n      <td>1987-04-29</td>\n      <td>Los Angeles Lakers</td>\n      <td>1</td>\n      <td>3</td>\n      <td>Denver Nuggets</td>\n      <td>8</td>\n      <td>0</td>\n      <td>NA</td>\n      <td>0</td>\n      <td>NA</td>\n      <td>0</td>\n    </tr>\n    <tr>\n      <th>216</th>\n      <td>2006</td>\n      <td>W</td>\n      <td>3</td>\n      <td>2006-04-23</td>\n      <td>2006-05-06</td>\n      <td>Phoenix Suns</td>\n      <td>2</td>\n      <td>4</td>\n      <td>Los Angeles Lakers</td>\n      <td>7</td>\n      <td>3</td>\n      <td>PHO</td>\n      <td>-360</td>\n      <td>LAL</td>\n      <td>300</td>\n    </tr>\n    <tr>\n      <th>665</th>\n      <td>1972</td>\n      <td>E</td>\n      <td>2</td>\n      <td>1972-03-31</td>\n      <td>1972-04-11</td>\n      <td>New York Knicks</td>\n      <td>2</td>\n      <td>4</td>\n      <td>Baltimore Bullets</td>\n      <td>1</td>\n      <td>2</td>\n      <td>NA</td>\n      <td>0</td>\n      <td>NA</td>\n      <td>0</td>\n    </tr>\n    <tr>\n      <th>298</th>\n      <td>2001</td>\n      <td>W</td>\n      <td>1</td>\n      <td>2001-05-19</td>\n      <td>2001-05-27</td>\n      <td>Los Angeles Lakers</td>\n      <td>2</td>\n      <td>4</td>\n      <td>San Antonio Spurs</td>\n      <td>1</td>\n      <td>0</td>\n      <td>LAL</td>\n      <td>-145</td>\n      <td>SAS</td>\n      <td>125</td>\n    </tr>\n    <tr>\n      <th>114</th>\n      <td>2013</td>\n      <td>E</td>\n      <td>2</td>\n      <td>2013-05-05</td>\n      <td>2013-05-18</td>\n      <td>Indiana Pacers</td>\n      <td>3</td>\n      <td>4</td>\n      <td>New York Knicks</td>\n      <td>2</td>\n      <td>2</td>\n      <td>NYK</td>\n      <td>-190</td>\n      <td>IND</td>\n      <td>165</td>\n    </tr>\n    <tr>\n      <th>53</th>\n      <td>2017</td>\n      <td>E</td>\n      <td>2</td>\n      <td>2017-05-01</td>\n      <td>2017-05-07</td>\n      <td>Cleveland Cavaliers</td>\n      <td>2</td>\n      <td>4</td>\n      <td>Toronto Raptors</td>\n      <td>3</td>\n      <td>0</td>\n      <td>CLE</td>\n      <td>-475</td>\n      <td>TOR</td>\n      <td>380</td>\n    </tr>\n    <tr>\n      <th>289</th>\n      <td>2001</td>\n      <td>W</td>\n      <td>3</td>\n      <td>2001-04-21</td>\n      <td>2001-05-03</td>\n      <td>Dallas Mavericks</td>\n      <td>5</td>\n      <td>3</td>\n      <td>Utah Jazz</td>\n      <td>4</td>\n      <td>2</td>\n      <td>UTA</td>\n      <td>-180</td>\n      <td>DAL</td>\n      <td>160</td>\n    </tr>\n    <tr>\n      <th>502</th>\n      <td>1987</td>\n      <td>W</td>\n      <td>3</td>\n      <td>1987-04-23</td>\n      <td>1987-04-30</td>\n      <td>Seattle SuperSonics</td>\n      <td>7</td>\n      <td>3</td>\n      <td>Dallas Mavericks</td>\n      <td>2</td>\n      <td>1</td>\n      <td>NA</td>\n      <td>0</td>\n      <td>NA</td>\n      <td>0</td>\n    </tr>\n    <tr>\n      <th>416</th>\n      <td>1993</td>\n      <td>W</td>\n      <td>2</td>\n      <td>1993-05-10</td>\n      <td>1993-05-22</td>\n      <td>Seattle SuperSonics</td>\n      <td>3</td>\n      <td>4</td>\n      <td>Houston Rockets</td>\n      <td>2</td>\n      <td>3</td>\n      <td>SEA</td>\n      <td>-135</td>\n      <td>HOU</td>\n      <td>115</td>\n    </tr>\n    <tr>\n      <th>393</th>\n      <td>1994</td>\n      <td>E</td>\n      <td>3</td>\n      <td>1994-04-29</td>\n      <td>1994-05-06</td>\n      <td>New York Knicks</td>\n      <td>2</td>\n      <td>3</td>\n      <td>New Jersey Nets</td>\n      <td>7</td>\n      <td>1</td>\n      <td>NYK</td>\n      <td>-360</td>\n      <td>NJN</td>\n      <td>280</td>\n    </tr>\n  </tbody>\n</table>\n</div>"
     },
     "metadata": {},
     "execution_count": 18
    }
   ],
   "source": [
    "pretty_cols = [\n",
    "    \"Year\",\n",
    "    \"Series_conference\",\n",
    "    \"Series_round\",\n",
    "    \"Date_start\", \n",
    "    \"Date_end\", \n",
    "    \"Team_win\", \n",
    "    \"Seed_win\",\n",
    "    \"Wins_win\",\n",
    "    \"Team_lose\", \n",
    "    \"Seed_lose\",\n",
    "    \"Wins_lose\",\n",
    "    \"Fav_team\",\n",
    "    \"Fav_odds\",\n",
    "    \"Underdog_team\", \n",
    "    \"Underdog_odds\"\n",
    "]\n",
    "\n",
    "nba[pretty_cols].iloc[rand_idx]"
   ]
  },
  {
   "source": [
    "I am storing this clean dataframe in a new CSV file, which is called **clean_nba.csv**."
   ],
   "cell_type": "markdown",
   "metadata": {}
  },
  {
   "cell_type": "code",
   "execution_count": 19,
   "metadata": {},
   "outputs": [],
   "source": [
    "nba[pretty_cols].to_csv(\"clean_nba.csv\", index = False)"
   ]
  }
 ]
}